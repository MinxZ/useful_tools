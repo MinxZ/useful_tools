{
 "cells": [
  {
   "cell_type": "code",
   "execution_count": null,
   "metadata": {},
   "outputs": [],
   "source": [
    "defaultdict"
   ]
  },
  {
   "cell_type": "code",
   "execution_count": 1,
   "metadata": {},
   "outputs": [],
   "source": [
    "from collections import defaultdict\n",
    "import pandas as pd\n",
    "import matplotlib.pyplot as plt\n",
    "import seaborn as sns"
   ]
  },
  {
   "cell_type": "code",
   "execution_count": 33,
   "metadata": {},
   "outputs": [],
   "source": [
    "dir_path = '/Users/z/mnt_home/lab/langacq/SLM-Lab/data'\n",
    "ll = ['ddqn_langacq_2020_01_13_173035',\n",
    "        # 'ddqn_langacq_2019_12_17_224220',\n",
    "        'ddqn_langacq_2020_01_13_172149'\n",
    "#         'ddqn_langacq_raw_alexnet_2019_12_17_230405',\n",
    "        ]\n",
    "        # 'ddqn_langacq_raw_resnet18_2019_12_18_020758']\n",
    "def get_odd(l):\n",
    "    return l[l]"
   ]
  },
  {
   "cell_type": "code",
   "execution_count": 2,
   "metadata": {},
   "outputs": [
    {
     "ename": "NameError",
     "evalue": "name 'll' is not defined",
     "output_type": "error",
     "traceback": [
      "\u001b[0;31m---------------------------------------------------------------------------\u001b[0m",
      "\u001b[0;31mNameError\u001b[0m                                 Traceback (most recent call last)",
      "\u001b[0;32m<ipython-input-2-b7dd1e94199c>\u001b[0m in \u001b[0;36m<module>\u001b[0;34m\u001b[0m\n\u001b[1;32m      3\u001b[0m \u001b[0;32mfor\u001b[0m \u001b[0midx\u001b[0m \u001b[0;32min\u001b[0m \u001b[0mrange\u001b[0m\u001b[0;34m(\u001b[0m\u001b[0;36m2\u001b[0m\u001b[0;34m)\u001b[0m\u001b[0;34m:\u001b[0m\u001b[0;34m\u001b[0m\u001b[0;34m\u001b[0m\u001b[0m\n\u001b[1;32m      4\u001b[0m     \u001b[0;32mif\u001b[0m \u001b[0midx\u001b[0m \u001b[0;34m<\u001b[0m \u001b[0;36m1\u001b[0m\u001b[0;34m:\u001b[0m\u001b[0;34m\u001b[0m\u001b[0;34m\u001b[0m\u001b[0m\n\u001b[0;32m----> 5\u001b[0;31m         \u001b[0mmodel_name\u001b[0m \u001b[0;34m=\u001b[0m \u001b[0;34m'_'\u001b[0m\u001b[0;34m.\u001b[0m\u001b[0mjoin\u001b[0m\u001b[0;34m(\u001b[0m\u001b[0mll\u001b[0m\u001b[0;34m[\u001b[0m\u001b[0midx\u001b[0m\u001b[0;34m]\u001b[0m\u001b[0;34m.\u001b[0m\u001b[0msplit\u001b[0m\u001b[0;34m(\u001b[0m\u001b[0;34m'_'\u001b[0m\u001b[0;34m)\u001b[0m\u001b[0;34m[\u001b[0m\u001b[0;34m:\u001b[0m\u001b[0;36m2\u001b[0m\u001b[0;34m]\u001b[0m\u001b[0;34m)\u001b[0m\u001b[0;34m\u001b[0m\u001b[0;34m\u001b[0m\u001b[0m\n\u001b[0m\u001b[1;32m      6\u001b[0m         \u001b[0mbaseline\u001b[0m \u001b[0;34m=\u001b[0m \u001b[0;34m'Proposed model'\u001b[0m\u001b[0;34m\u001b[0m\u001b[0;34m\u001b[0m\u001b[0m\n\u001b[1;32m      7\u001b[0m         \u001b[0mmodel\u001b[0m \u001b[0;34m=\u001b[0m \u001b[0;34m'AlexNet'\u001b[0m\u001b[0;34m\u001b[0m\u001b[0;34m\u001b[0m\u001b[0m\n",
      "\u001b[0;31mNameError\u001b[0m: name 'll' is not defined"
     ]
    }
   ],
   "source": [
    "dict_model = {}\n",
    "d = defaultdict(list)\n",
    "for idx in range(2):\n",
    "    if idx < 1:\n",
    "        model_name = '_'.join(ll[idx].split('_')[:2])\n",
    "        baseline = 'Proposed model'\n",
    "        model = 'AlexNet'\n",
    "    else:\n",
    "        model_name = '_'.join(ll[idx].split('_')[:2])\n",
    "        baseline = 'Baseline'\n",
    "        model = 'AlexNet'\n",
    "    seassion = []\n",
    "    for s in range(2):\n",
    "        csv_name = f'{dir_path}/{ll[idx]}/info/{model_name}_t0_s{s}_session_df_eval.csv'\n",
    "        l = pd.read_csv(csv_name)['total_reward_ma']\n",
    "#         l = get_odd(l)\n",
    "        d['step'].extend(range(100, (len(l)+1)*100, 100))\n",
    "        d['reward'].extend(l)\n",
    "        d['s'].extend([s]*len(l))\n",
    "        d['cnn'].extend([model]*len(l))\n",
    "        d['model'].extend([baseline]*len(l))\n",
    "df = pd.DataFrame.from_dict(d)\n"
   ]
  },
  {
   "cell_type": "code",
   "execution_count": 35,
   "metadata": {},
   "outputs": [],
   "source": [
    "\n",
    "for cnn in ['AlexNet']:\n",
    "    fig, ax = plt.subplots(figsize=(8, 6))\n",
    "    plt.ylim(ymin=-2, ymax=10)\n",
    "    sele = (df['cnn'] == cnn)\n",
    "    ax = sns.lineplot(x='step', y='reward', hue='model', data=df[sele])\n",
    "    plt.savefig(f'/Users/z/Downloads/{cnn}.png')\n",
    "    plt.close()\n"
   ]
  },
  {
   "cell_type": "code",
   "execution_count": 4,
   "metadata": {},
   "outputs": [],
   "source": [
    "import datetime\n",
    "import pickle\n",
    "import random\n",
    "import time\n",
    "from pathlib import Path\n",
    "import argparse\n",
    "import optparse\n",
    "\n",
    "import matplotlib\n",
    "import matplotlib.pyplot as plt\n",
    "import numpy as np\n",
    "import torch\n",
    "from tqdm import tqdm\n",
    "\n"
   ]
  },
  {
   "cell_type": "code",
   "execution_count": 10,
   "metadata": {},
   "outputs": [],
   "source": [
    "matplotlib.use('Agg')\n",
    "\n",
    "LOG_NAME = 'work/log/' + \\\n",
    "    datetime.datetime.fromtimestamp(\n",
    "        time.time()).strftime('%Y%m%d_%H_%M_%S') + '.log'\n"
   ]
  },
  {
   "cell_type": "code",
   "execution_count": 40,
   "metadata": {},
   "outputs": [],
   "source": [
    "radm_fix = []\n",
    "unsup_fix = []\n",
    "radm = []\n",
    "unsup = []\n",
    "action_fix = []\n",
    "action = []\n",
    "loss_fix = []\n",
    "loss = []\n",
    "fcn_fix = []\n",
    "fcn = []\n",
    "for seed in range(5):\n",
    "    radm_fix.append(np.load(f'{dir_path}/randomnet_epoch3000_clusterv0_clustera0_del_last1_output_cluster0_ext_fusion0_fea_size64_similarity1_fix1_sim0none_seed{seed}.npy'))\n",
    "    unsup_fix.append(np.load(f'{dir_path}/alexnet_epoch3000_clusterv0_clustera0_del_last1_output_cluster0_ext_fusion0_fea_size64_similarity1_fix1_seed{seed}.npy'))\n",
    "    radm.append(np.load(f'{dir_path}/randomnet_epoch3000_clusterv0_clustera0_del_last1_output_cluster0_ext_fusion0_fea_size64_similarity1_fix0_sim0none_seed{seed}.npy'))\n",
    "    unsup.append(np.load(f'{dir_path}/alexnet_epoch3000_clusterv0_clustera0_del_last1_output_cluster0_ext_fusion0_fea_size64_similarity1_fix0_seed{seed}.npy'))\n",
    "\n",
    "    action_fix.append(np.load(f'{dir_path}/alexnet_epoch3000_clusterv0_clustera0_del_last1_output_cluster0_ext_fusion0_fea_size64_similarity1_fix1_sim1action_seed{seed}.npy'))\n",
    "    action.append(np.load(f'{dir_path}/alexnet_epoch3000_clusterv0_clustera0_del_last1_output_cluster0_ext_fusion0_fea_size64_similarity1_fix0_sim1action_seed{seed}.npy'))\n",
    "    loss_fix.append(np.load(f'{dir_path}/alexnet_epoch3000_clusterv0_clustera0_del_last1_output_cluster0_ext_fusion0_fea_size64_similarity1_fix1_sim1loss_seed{seed}.npy'))\n",
    "    loss.append(np.load(f'{dir_path}/alexnet_epoch3000_clusterv0_clustera0_del_last1_output_cluster0_ext_fusion0_fea_size64_similarity1_fix0_sim1loss_seed{seed}.npy'))\n",
    "    fcn_fix.append(np.load(f'{dir_path}/alexnet_epoch3000_clusterv0_clustera0_del_last1_output_cluster0_ext_fusion0_fea_size64_similarity1_fix1_sim1fcn_seed{seed}.npy'))\n",
    "    fcn.append(np.load(f'{dir_path}/alexnet_epoch3000_clusterv0_clustera0_del_last1_output_cluster0_ext_fusion0_fea_size64_similarity1_fix0_sim1fcn_seed{seed}.npy'))\n",
    "\n",
    "radm_fix = np.stack(radm_fix, axis=0)\n",
    "unsup_fix = np.stack(unsup_fix, axis=0)\n",
    "radm = np.stack(radm, axis=0)\n",
    "unsup = np.stack(unsup, axis=0)\n",
    "action_fix = np.stack(action_fix, axis=0)\n",
    "action = np.stack(action, axis=0)\n",
    "loss_fix = np.stack(loss_fix, axis=0)\n",
    "loss = np.stack(loss, axis=0)\n",
    "fcn_fix = np.stack(fcn_fix, axis=0)\n",
    "fcn = np.stack(fcn, axis=0)\n"
   ]
  },
  {
   "cell_type": "code",
   "execution_count": 41,
   "metadata": {},
   "outputs": [],
   "source": [
    "x = [i for i in range(radm.shape[1])]\n",
    "# plt.figure(figsize=(8,8))\n",
    "\n",
    "# plt.plot(x, np.mean(radm_fix, axis=0),\n",
    "#          label=f\"random initialized alexnet, fixed cnn\")\n",
    "# plt.plot(x, np.mean(unsup_fix, axis=0),\n",
    "#          label=f\"proposed method, no similarity, fixed cnn\")\n",
    "# plt.plot(x, np.mean(radm, axis=0),\n",
    "#          label=f\"random initialized alexnet\")\n",
    "plt.plot(x, np.mean(unsup, axis=0),\n",
    "         label=f\"proposed method, no similarity\")\n",
    "\n",
    "# plt.plot(x, np.mean(action_fix, axis=0),\n",
    "#          label=f\"proposed method, fixed_cnn, using similarity, add to action\")\n",
    "plt.plot(x, np.mean(action, axis=0),\n",
    "         label=f\"proposed method, using similarity, add to action\")\n",
    "# plt.plot(x, np.mean(loss_fix, axis=0),\n",
    "#          label=f\"proposed method, fixed_cnn, using similarity, add to loss\")\n",
    "plt.plot(x, np.mean(loss, axis=0),\n",
    "         label=f\"proposed method, using similarity, add to loss\")\n",
    "# plt.plot(x, np.mean(fcn_fix, axis=0),\n",
    "#          label=f\"proposed method, fixed_cnn, using similarity, add to fcn\")\n",
    "plt.plot(x, np.mean(fcn, axis=0),\n",
    "         label=f\"proposed method, using similarity, add to fcn\")\n",
    "\n",
    "\n",
    "plt.ylim((0.00, 0.6))\n",
    "plt.xlim((0, 3000))\n",
    "plt.legend()\n",
    "plt.xlabel('Epoch')\n",
    "plt.ylabel('Accuracy')\n",
    "plt.savefig(f'/Users/z/Downloads/pretrain.png')\n",
    "plt.clf()\n"
   ]
  },
  {
   "cell_type": "code",
   "execution_count": null,
   "metadata": {},
   "outputs": [],
   "source": []
  }
 ],
 "metadata": {
  "kernelspec": {
   "display_name": "Python 3",
   "language": "python",
   "name": "python3"
  },
  "language_info": {
   "codemirror_mode": {
    "name": "ipython",
    "version": 3
   },
   "file_extension": ".py",
   "mimetype": "text/x-python",
   "name": "python",
   "nbconvert_exporter": "python",
   "pygments_lexer": "ipython3",
   "version": "3.7.3"
  }
 },
 "nbformat": 4,
 "nbformat_minor": 2
}
